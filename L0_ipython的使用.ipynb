{
 "cells": [
  {
   "cell_type": "markdown",
   "id": "fe226061-27d5-493b-b217-26d2ba05aedf",
   "metadata": {},
   "source": [
    "## In和Out   \n",
    "有没有想过...   \n",
    "这俩玩意其实是变量，In类似于列表，非常贴心，开头有占位的，所以是从1开始计数的呢，Out是类似于字典的一个玩意，有些时候是没有输出的，有些时候是有输出的，当输出为None时，就没有Out了。\n",
    "\n",
    "获取历史输出（Out）的快捷方式是_(对应最后的输出)__（对应倒数第二个） ___（对应倒数第三个）。\n",
    "\n",
    "除此之外还有一种简写方式是_X,X就是行号，比如_2等。"
   ]
  },
  {
   "cell_type": "code",
   "execution_count": 1,
   "id": "2a49fc2c-d6f7-4656-9b84-a55446a265e8",
   "metadata": {
    "execution": {
     "iopub.execute_input": "2024-03-09T13:16:11.462503Z",
     "iopub.status.busy": "2024-03-09T13:16:11.462503Z",
     "iopub.status.idle": "2024-03-09T13:16:11.468343Z",
     "shell.execute_reply": "2024-03-09T13:16:11.468343Z",
     "shell.execute_reply.started": "2024-03-09T13:16:11.462503Z"
    },
    "tags": []
   },
   "outputs": [
    {
     "data": {
      "text/plain": [
       "123"
      ]
     },
     "execution_count": 1,
     "metadata": {},
     "output_type": "execute_result"
    }
   ],
   "source": [
    "a = 123\n",
    "a"
   ]
  },
  {
   "cell_type": "code",
   "execution_count": 2,
   "id": "556005ca-abeb-4ead-95a8-4f30aeb994eb",
   "metadata": {
    "execution": {
     "iopub.execute_input": "2024-03-09T13:16:13.873466Z",
     "iopub.status.busy": "2024-03-09T13:16:13.873466Z",
     "iopub.status.idle": "2024-03-09T13:16:13.877279Z",
     "shell.execute_reply": "2024-03-09T13:16:13.877279Z",
     "shell.execute_reply.started": "2024-03-09T13:16:13.873466Z"
    },
    "tags": []
   },
   "outputs": [
    {
     "data": {
      "text/plain": [
       "['', 'a=123\\na', 'In']"
      ]
     },
     "execution_count": 2,
     "metadata": {},
     "output_type": "execute_result"
    }
   ],
   "source": [
    "In"
   ]
  },
  {
   "cell_type": "code",
   "execution_count": 3,
   "id": "19f7ebf3-6207-45b0-9a82-a052be6ba5d2",
   "metadata": {
    "execution": {
     "iopub.execute_input": "2024-03-09T13:16:20.351318Z",
     "iopub.status.busy": "2024-03-09T13:16:20.351318Z",
     "iopub.status.idle": "2024-03-09T13:16:20.355494Z",
     "shell.execute_reply": "2024-03-09T13:16:20.355494Z",
     "shell.execute_reply.started": "2024-03-09T13:16:20.351318Z"
    },
    "tags": []
   },
   "outputs": [
    {
     "data": {
      "text/plain": [
       "{1: 123, 2: ['', 'a=123\\na', 'In', 'Out']}"
      ]
     },
     "execution_count": 3,
     "metadata": {},
     "output_type": "execute_result"
    }
   ],
   "source": [
    "Out"
   ]
  },
  {
   "cell_type": "markdown",
   "id": "ff01bc27-e6af-4897-810b-899f7a24c734",
   "metadata": {},
   "source": [
    "ps:   一般我们查看历史输出的时候，不会直接用查看变量的方式直接查看，   \n",
    "而是会选择用print输出，print是没有返回值的（None）   \n",
    "所以，None是不会被记录到Out这个变量里面，除此之外，   \n",
    "你可以用;禁止输出，一般用于画图的末尾。(matplotlib)"
   ]
  },
  {
   "cell_type": "code",
   "execution_count": 4,
   "id": "d8424e02-3b1d-49fe-a089-b2d6c73692f4",
   "metadata": {
    "execution": {
     "iopub.execute_input": "2024-03-09T13:16:55.770471Z",
     "iopub.status.busy": "2024-03-09T13:16:55.770471Z",
     "iopub.status.idle": "2024-03-09T13:16:55.773889Z",
     "shell.execute_reply": "2024-03-09T13:16:55.773834Z",
     "shell.execute_reply.started": "2024-03-09T13:16:55.770471Z"
    },
    "tags": []
   },
   "outputs": [
    {
     "data": {
      "text/plain": [
       "123"
      ]
     },
     "execution_count": 4,
     "metadata": {},
     "output_type": "execute_result"
    }
   ],
   "source": [
    "a"
   ]
  },
  {
   "cell_type": "code",
   "execution_count": 5,
   "id": "a4e58043-259f-4bc9-aad2-71384d1e6940",
   "metadata": {
    "execution": {
     "iopub.execute_input": "2024-03-09T13:16:58.587145Z",
     "iopub.status.busy": "2024-03-09T13:16:58.586172Z",
     "iopub.status.idle": "2024-03-09T13:16:58.590466Z",
     "shell.execute_reply": "2024-03-09T13:16:58.590405Z",
     "shell.execute_reply.started": "2024-03-09T13:16:58.587145Z"
    },
    "tags": []
   },
   "outputs": [],
   "source": [
    "a;"
   ]
  },
  {
   "cell_type": "markdown",
   "id": "f3f46045-d3bd-4f45-8247-0c2945c33f68",
   "metadata": {},
   "source": [
    "**用法1**\n",
    "结合exec，我们可以快速再次运行代码块中的代码，其实没啥用，啥时候你觉得方便啥时候就考虑一下。\n",
    "\n",
    "**用法2**\n",
    "结合dis模块，我们可以快速查看代码块中的dis内码状况，这个还是很方便的，具体演示见下\n",
    "\n"
   ]
  },
  {
   "cell_type": "code",
   "execution_count": 6,
   "id": "ee791527-6f72-4c84-8c8f-185748a3a4b0",
   "metadata": {
    "execution": {
     "iopub.execute_input": "2024-03-09T13:17:49.532963Z",
     "iopub.status.busy": "2024-03-09T13:17:49.532963Z",
     "iopub.status.idle": "2024-03-09T13:17:49.536857Z",
     "shell.execute_reply": "2024-03-09T13:17:49.536857Z",
     "shell.execute_reply.started": "2024-03-09T13:17:49.532963Z"
    },
    "tags": []
   },
   "outputs": [],
   "source": [
    "from dis import dis"
   ]
  },
  {
   "cell_type": "code",
   "execution_count": 7,
   "id": "6ed6a51c-a745-4fb1-9d98-755e7c3a6b78",
   "metadata": {
    "execution": {
     "iopub.execute_input": "2024-03-09T13:18:03.316169Z",
     "iopub.status.busy": "2024-03-09T13:18:03.316169Z",
     "iopub.status.idle": "2024-03-09T13:18:03.321539Z",
     "shell.execute_reply": "2024-03-09T13:18:03.321539Z",
     "shell.execute_reply.started": "2024-03-09T13:18:03.316169Z"
    },
    "tags": []
   },
   "outputs": [
    {
     "name": "stdout",
     "output_type": "stream",
     "text": [
      "  1           0 LOAD_CONST               0 (123)\n",
      "              2 STORE_NAME               0 (a)\n",
      "\n",
      "  2           4 LOAD_NAME                0 (a)\n",
      "              6 POP_TOP\n",
      "              8 LOAD_CONST               1 (None)\n",
      "             10 RETURN_VALUE\n"
     ]
    }
   ],
   "source": [
    "dis(In[1])"
   ]
  },
  {
   "cell_type": "markdown",
   "id": "94abb4c7-dfe6-4b51-926d-b58e61527537",
   "metadata": {},
   "source": [
    "## 魔法命令\n",
    "魔法命令是个非常奇妙的内容，这里我只摘选了一部分我 最喜欢也是最常用（而且基本上不需要额外安装）\n",
    "\n",
    "如果你想开发自己的魔法命令，可以查阅官方文档，这个也是可以做的到的。\n",
    "\n",
    "需要注意的是，%对应的是行魔法（只针对一行代码）%%对应的是单元魔法（对应一个代码块，但是生效范围具体还得看情况，比如画图的）\n",
    "\n",
    "最常用的就是代码计时魔法命令"
   ]
  },
  {
   "cell_type": "code",
   "execution_count": 8,
   "id": "21816e32-e0b7-42bf-a56d-f2c641f88521",
   "metadata": {
    "execution": {
     "iopub.execute_input": "2024-03-09T13:18:33.267015Z",
     "iopub.status.busy": "2024-03-09T13:18:33.267015Z",
     "iopub.status.idle": "2024-03-09T13:18:45.172290Z",
     "shell.execute_reply": "2024-03-09T13:18:45.171312Z",
     "shell.execute_reply.started": "2024-03-09T13:18:33.267015Z"
    },
    "tags": []
   },
   "outputs": [
    {
     "name": "stdout",
     "output_type": "stream",
     "text": [
      "147 µs ± 4.3 µs per loop (mean ± std. dev. of 7 runs, 10,000 loops each)\n"
     ]
    }
   ],
   "source": [
    "%timeit L = [n ** 2 for n in range(1000)]"
   ]
  },
  {
   "cell_type": "code",
   "execution_count": 9,
   "id": "073ceeb6-083a-465e-8693-fc684602ce26",
   "metadata": {
    "execution": {
     "iopub.execute_input": "2024-03-09T13:19:05.698128Z",
     "iopub.status.busy": "2024-03-09T13:19:05.698128Z",
     "iopub.status.idle": "2024-03-09T13:19:18.552106Z",
     "shell.execute_reply": "2024-03-09T13:19:18.552106Z",
     "shell.execute_reply.started": "2024-03-09T13:19:05.698128Z"
    },
    "tags": []
   },
   "outputs": [
    {
     "name": "stdout",
     "output_type": "stream",
     "text": [
      "158 µs ± 3.14 µs per loop (mean ± std. dev. of 7 runs, 10,000 loops each)\n"
     ]
    }
   ],
   "source": [
    "%%timeit\n",
    "L = []\n",
    "for n in range(1000):\n",
    "\tL.append(n ** 2)"
   ]
  },
  {
   "cell_type": "code",
   "execution_count": 12,
   "id": "f241d5c3-7a34-4568-a364-fa61ad61d1b1",
   "metadata": {
    "execution": {
     "iopub.execute_input": "2024-03-09T13:19:55.277003Z",
     "iopub.status.busy": "2024-03-09T13:19:55.277003Z",
     "iopub.status.idle": "2024-03-09T13:19:56.337919Z",
     "shell.execute_reply": "2024-03-09T13:19:56.337919Z",
     "shell.execute_reply.started": "2024-03-09T13:19:55.277003Z"
    },
    "tags": []
   },
   "outputs": [
    {
     "name": "stdout",
     "output_type": "stream",
     "text": [
      "CPU times: total: 0 ns\n",
      "Wall time: 1.06 s\n"
     ]
    }
   ],
   "source": [
    "%%time\n",
    "import time \n",
    "L = []\n",
    "for n in range(100):\n",
    "    time.sleep(0.01)\n",
    "    L.append(n ** 2)"
   ]
  },
  {
   "cell_type": "markdown",
   "id": "2225da88-79da-409a-a285-1044382f8d99",
   "metadata": {},
   "source": [
    "## ?和??的使用\n",
    "\n",
    "我们可以直接使用?或者??查看这个对象的说明或者源码"
   ]
  },
  {
   "cell_type": "code",
   "execution_count": 14,
   "id": "28725537-97b5-469a-9e4e-48c4ad7a0c7e",
   "metadata": {
    "execution": {
     "iopub.execute_input": "2024-03-09T13:26:51.630336Z",
     "iopub.status.busy": "2024-03-09T13:26:51.630336Z",
     "iopub.status.idle": "2024-03-09T13:26:51.634262Z",
     "shell.execute_reply": "2024-03-09T13:26:51.634262Z",
     "shell.execute_reply.started": "2024-03-09T13:26:51.630336Z"
    },
    "tags": []
   },
   "outputs": [
    {
     "data": {
      "text/plain": [
       "\u001b[1;31mDocstring:\u001b[0m\n",
       "print(value, ..., sep=' ', end='\\n', file=sys.stdout, flush=False)\n",
       "\n",
       "Prints the values to a stream, or to sys.stdout by default.\n",
       "Optional keyword arguments:\n",
       "file:  a file-like object (stream); defaults to the current sys.stdout.\n",
       "sep:   string inserted between values, default a space.\n",
       "end:   string appended after the last value, default a newline.\n",
       "flush: whether to forcibly flush the stream.\n",
       "\u001b[1;31mType:\u001b[0m      builtin_function_or_method"
      ]
     },
     "metadata": {},
     "output_type": "display_data"
    }
   ],
   "source": [
    "print?"
   ]
  },
  {
   "cell_type": "code",
   "execution_count": 15,
   "id": "f26661e9-0c81-43b2-bc43-2efa3be33058",
   "metadata": {
    "execution": {
     "iopub.execute_input": "2024-03-09T13:27:18.169858Z",
     "iopub.status.busy": "2024-03-09T13:27:18.169858Z",
     "iopub.status.idle": "2024-03-09T13:27:18.172961Z",
     "shell.execute_reply": "2024-03-09T13:27:18.172961Z",
     "shell.execute_reply.started": "2024-03-09T13:27:18.169858Z"
    },
    "tags": []
   },
   "outputs": [
    {
     "data": {
      "text/plain": [
       "\u001b[1;31mDocstring:\u001b[0m\n",
       "print(value, ..., sep=' ', end='\\n', file=sys.stdout, flush=False)\n",
       "\n",
       "Prints the values to a stream, or to sys.stdout by default.\n",
       "Optional keyword arguments:\n",
       "file:  a file-like object (stream); defaults to the current sys.stdout.\n",
       "sep:   string inserted between values, default a space.\n",
       "end:   string appended after the last value, default a newline.\n",
       "flush: whether to forcibly flush the stream.\n",
       "\u001b[1;31mType:\u001b[0m      builtin_function_or_method"
      ]
     },
     "metadata": {},
     "output_type": "display_data"
    }
   ],
   "source": [
    "# 对于print来说，??不能查看源码，知道为什么么？\n",
    "print??"
   ]
  },
  {
   "cell_type": "code",
   "execution_count": 16,
   "id": "de83bf46-2d31-4f30-b7d8-d9db37a1bb49",
   "metadata": {
    "execution": {
     "iopub.execute_input": "2024-03-09T13:27:38.810375Z",
     "iopub.status.busy": "2024-03-09T13:27:38.810375Z",
     "iopub.status.idle": "2024-03-09T13:27:38.813326Z",
     "shell.execute_reply": "2024-03-09T13:27:38.813326Z",
     "shell.execute_reply.started": "2024-03-09T13:27:38.810375Z"
    },
    "tags": []
   },
   "outputs": [],
   "source": [
    "def f():\n",
    "    '''这是一个test函数'''\n",
    "    pass"
   ]
  },
  {
   "cell_type": "code",
   "execution_count": 17,
   "id": "5fe48815-7834-45cc-ad40-05350b62743b",
   "metadata": {
    "execution": {
     "iopub.execute_input": "2024-03-09T13:27:41.935428Z",
     "iopub.status.busy": "2024-03-09T13:27:41.935428Z",
     "iopub.status.idle": "2024-03-09T13:27:41.969592Z",
     "shell.execute_reply": "2024-03-09T13:27:41.969592Z",
     "shell.execute_reply.started": "2024-03-09T13:27:41.935428Z"
    },
    "tags": []
   },
   "outputs": [
    {
     "data": {
      "text/plain": [
       "\u001b[1;31mSignature:\u001b[0m \u001b[0mf\u001b[0m\u001b[1;33m(\u001b[0m\u001b[1;33m)\u001b[0m\u001b[1;33m\u001b[0m\u001b[1;33m\u001b[0m\u001b[0m\n",
       "\u001b[1;31mDocstring:\u001b[0m 这是一个test函数\n",
       "\u001b[1;31mFile:\u001b[0m      c:\\users\\asus\\appdata\\local\\temp\\ipykernel_22824\\4211209819.py\n",
       "\u001b[1;31mType:\u001b[0m      function"
      ]
     },
     "metadata": {},
     "output_type": "display_data"
    }
   ],
   "source": [
    "f?"
   ]
  },
  {
   "cell_type": "code",
   "execution_count": 18,
   "id": "978cad85-6fa3-4650-a60c-94f55833ba31",
   "metadata": {
    "execution": {
     "iopub.execute_input": "2024-03-09T13:27:45.129383Z",
     "iopub.status.busy": "2024-03-09T13:27:45.129383Z",
     "iopub.status.idle": "2024-03-09T13:27:45.133308Z",
     "shell.execute_reply": "2024-03-09T13:27:45.133308Z",
     "shell.execute_reply.started": "2024-03-09T13:27:45.129383Z"
    },
    "tags": []
   },
   "outputs": [
    {
     "data": {
      "text/plain": [
       "\u001b[1;31mSignature:\u001b[0m \u001b[0mf\u001b[0m\u001b[1;33m(\u001b[0m\u001b[1;33m)\u001b[0m\u001b[1;33m\u001b[0m\u001b[1;33m\u001b[0m\u001b[0m\n",
       "\u001b[1;31mSource:\u001b[0m   \n",
       "\u001b[1;32mdef\u001b[0m \u001b[0mf\u001b[0m\u001b[1;33m(\u001b[0m\u001b[1;33m)\u001b[0m\u001b[1;33m:\u001b[0m\u001b[1;33m\n",
       "\u001b[0m    \u001b[1;34m'''这是一个test函数'''\u001b[0m\u001b[1;33m\n",
       "\u001b[0m    \u001b[1;32mpass\u001b[0m\u001b[1;33m\u001b[0m\u001b[1;33m\u001b[0m\u001b[0m\n",
       "\u001b[1;31mFile:\u001b[0m      c:\\users\\asus\\appdata\\local\\temp\\ipykernel_22824\\4211209819.py\n",
       "\u001b[1;31mType:\u001b[0m      function"
      ]
     },
     "metadata": {},
     "output_type": "display_data"
    }
   ],
   "source": [
    "f??"
   ]
  },
  {
   "cell_type": "markdown",
   "id": "33b52822-1949-42bc-b7fc-ecd7670c5805",
   "metadata": {},
   "source": [
    "## 结语   \n",
    "因为可能大概也许就直接会涉及到一些你不懂的，   \n",
    "不过没关系，在这里，讲的都是ipython才有的东西，   \n",
    "实际上，这只是其中一小部分，   \n",
    "希望你能够积极探索！"
   ]
  },
  {
   "cell_type": "code",
   "execution_count": null,
   "id": "229ecb6a-cc7c-41ce-a29b-059d8880ae7c",
   "metadata": {},
   "outputs": [],
   "source": []
  }
 ],
 "metadata": {
  "kernelspec": {
   "display_name": "Python 3 (ipykernel)",
   "language": "python",
   "name": "python3"
  },
  "language_info": {
   "codemirror_mode": {
    "name": "ipython",
    "version": 3
   },
   "file_extension": ".py",
   "mimetype": "text/x-python",
   "name": "python",
   "nbconvert_exporter": "python",
   "pygments_lexer": "ipython3",
   "version": "3.9.16"
  },
  "widgets": {
   "application/vnd.jupyter.widget-state+json": {
    "state": {},
    "version_major": 2,
    "version_minor": 0
   }
  }
 },
 "nbformat": 4,
 "nbformat_minor": 5
}
